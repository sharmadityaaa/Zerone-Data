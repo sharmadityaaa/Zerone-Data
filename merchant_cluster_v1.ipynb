{
 "cells": [
  {
   "cell_type": "markdown",
   "id": "48d02f5e-1474-48d5-955b-220455d3cacc",
   "metadata": {},
   "source": [
    "# Project Merchant Clustering"
   ]
  },
  {
   "cell_type": "code",
   "execution_count": 53,
   "id": "fdf4ca5d-6b88-46e7-96be-44b1b01ce69f",
   "metadata": {},
   "outputs": [],
   "source": [
    "import numpy as np\n",
    "import pandas as pd\n",
    "import matplotlib.pyplot as plt\n",
    "import seaborn as sns\n",
    "import datetime as datetime"
   ]
  },
  {
   "cell_type": "markdown",
   "id": "a4c64b1c-981a-4ed2-a777-db74fa7df500",
   "metadata": {},
   "source": [
    "### Importing & cleaning sample_nm"
   ]
  },
  {
   "cell_type": "code",
   "execution_count": 54,
   "id": "0e647267-f9c4-45f2-88ff-a4b99243bb90",
   "metadata": {
    "collapsed": true,
    "jupyter": {
     "outputs_hidden": true
    },
    "tags": []
   },
   "outputs": [
    {
     "name": "stderr",
     "output_type": "stream",
     "text": [
      "c:\\users\\aditya\\appdata\\local\\programs\\python\\python37-32\\lib\\site-packages\\IPython\\core\\interactiveshell.py:3170: DtypeWarning: Columns (14) have mixed types.Specify dtype option on import or set low_memory=False.\n",
      "  interactivity=interactivity, compiler=compiler, result=result)\n"
     ]
    }
   ],
   "source": [
    "nm_sampleDf = pd.read_csv('sample_nm.csv')"
   ]
  },
  {
   "cell_type": "code",
   "execution_count": 55,
   "id": "5cd87e2f-1d8a-4945-a49e-0b25ef17695a",
   "metadata": {},
   "outputs": [],
   "source": [
    "nm_sampleDf = nm_sampleDf[['merchant_id','state','onboarding_date']]"
   ]
  },
  {
   "cell_type": "code",
   "execution_count": 4,
   "id": "55657cc4-9fe6-4503-9414-60b6bb32d0ef",
   "metadata": {},
   "outputs": [
    {
     "data": {
      "text/html": [
       "<div>\n",
       "<style scoped>\n",
       "    .dataframe tbody tr th:only-of-type {\n",
       "        vertical-align: middle;\n",
       "    }\n",
       "\n",
       "    .dataframe tbody tr th {\n",
       "        vertical-align: top;\n",
       "    }\n",
       "\n",
       "    .dataframe thead th {\n",
       "        text-align: right;\n",
       "    }\n",
       "</style>\n",
       "<table border=\"1\" class=\"dataframe\">\n",
       "  <thead>\n",
       "    <tr style=\"text-align: right;\">\n",
       "      <th></th>\n",
       "      <th>merchant_id</th>\n",
       "      <th>state</th>\n",
       "      <th>onboarding_date</th>\n",
       "    </tr>\n",
       "  </thead>\n",
       "  <tbody>\n",
       "    <tr>\n",
       "      <th>0</th>\n",
       "      <td>6042cc1347e6b54d131545d6</td>\n",
       "      <td>Maharashtra</td>\n",
       "      <td>2021-03-06</td>\n",
       "    </tr>\n",
       "    <tr>\n",
       "      <th>1</th>\n",
       "      <td>6042cf7f47e6b54d13158627</td>\n",
       "      <td>West Bengal</td>\n",
       "      <td>2021-03-06</td>\n",
       "    </tr>\n",
       "    <tr>\n",
       "      <th>2</th>\n",
       "      <td>6042d08a47e6b54d13158645</td>\n",
       "      <td>Himachal Pradesh</td>\n",
       "      <td>2021-03-06</td>\n",
       "    </tr>\n",
       "    <tr>\n",
       "      <th>3</th>\n",
       "      <td>6042d08d47e6b54d13158648</td>\n",
       "      <td>Rajasthan</td>\n",
       "      <td>2021-03-06</td>\n",
       "    </tr>\n",
       "    <tr>\n",
       "      <th>4</th>\n",
       "      <td>6042d09347e6b54d1315864b</td>\n",
       "      <td>Madhya Pradesh</td>\n",
       "      <td>2021-03-06</td>\n",
       "    </tr>\n",
       "  </tbody>\n",
       "</table>\n",
       "</div>"
      ],
      "text/plain": [
       "                merchant_id             state onboarding_date\n",
       "0  6042cc1347e6b54d131545d6       Maharashtra      2021-03-06\n",
       "1  6042cf7f47e6b54d13158627       West Bengal      2021-03-06\n",
       "2  6042d08a47e6b54d13158645  Himachal Pradesh      2021-03-06\n",
       "3  6042d08d47e6b54d13158648         Rajasthan      2021-03-06\n",
       "4  6042d09347e6b54d1315864b    Madhya Pradesh      2021-03-06"
      ]
     },
     "execution_count": 4,
     "metadata": {},
     "output_type": "execute_result"
    }
   ],
   "source": [
    "nm_sampleDf.head()"
   ]
  },
  {
   "cell_type": "markdown",
   "id": "0d8854b2-d76e-4ef9-b5c7-26acabb2b897",
   "metadata": {},
   "source": [
    "### Importing & cleaning sample_mis"
   ]
  },
  {
   "cell_type": "code",
   "execution_count": 56,
   "id": "3630c395-7f4a-4909-b47a-5ad5e85c2489",
   "metadata": {},
   "outputs": [],
   "source": [
    "mis_sampleDf = pd.read_csv('sample_mis.csv')"
   ]
  },
  {
   "cell_type": "code",
   "execution_count": 57,
   "id": "3018c04e-879f-443f-b74d-4e070afa4a1e",
   "metadata": {},
   "outputs": [],
   "source": [
    "mis_sampleDf = mis_sampleDf[['merchant_id','transaction_status']]"
   ]
  },
  {
   "cell_type": "code",
   "execution_count": 58,
   "id": "5cd60b3d-64c6-4d57-b057-827444c900c4",
   "metadata": {},
   "outputs": [],
   "source": [
    "mis_sampleDf = mis_sampleDf.loc[mis_sampleDf['transaction_status'] == 'SUCCESS']\n",
    "# Selecting only successfull transactions"
   ]
  },
  {
   "cell_type": "code",
   "execution_count": 8,
   "id": "9d305bee-e0e1-4a0b-a4f2-4b34a4da42c9",
   "metadata": {},
   "outputs": [
    {
     "data": {
      "text/html": [
       "<div>\n",
       "<style scoped>\n",
       "    .dataframe tbody tr th:only-of-type {\n",
       "        vertical-align: middle;\n",
       "    }\n",
       "\n",
       "    .dataframe tbody tr th {\n",
       "        vertical-align: top;\n",
       "    }\n",
       "\n",
       "    .dataframe thead th {\n",
       "        text-align: right;\n",
       "    }\n",
       "</style>\n",
       "<table border=\"1\" class=\"dataframe\">\n",
       "  <thead>\n",
       "    <tr style=\"text-align: right;\">\n",
       "      <th></th>\n",
       "      <th>merchant_id</th>\n",
       "      <th>transaction_status</th>\n",
       "    </tr>\n",
       "  </thead>\n",
       "  <tbody>\n",
       "    <tr>\n",
       "      <th>0</th>\n",
       "      <td>606d9e6cdd1e4cb6dc91d674</td>\n",
       "      <td>SUCCESS</td>\n",
       "    </tr>\n",
       "    <tr>\n",
       "      <th>1</th>\n",
       "      <td>606d2b1ddd1e4cb6dc91a082</td>\n",
       "      <td>SUCCESS</td>\n",
       "    </tr>\n",
       "    <tr>\n",
       "      <th>2</th>\n",
       "      <td>6040d3818989096075cb1b6d</td>\n",
       "      <td>SUCCESS</td>\n",
       "    </tr>\n",
       "    <tr>\n",
       "      <th>3</th>\n",
       "      <td>606d2b1ddd1e4cb6dc91a082</td>\n",
       "      <td>SUCCESS</td>\n",
       "    </tr>\n",
       "    <tr>\n",
       "      <th>4</th>\n",
       "      <td>606d2b1ddd1e4cb6dc91a082</td>\n",
       "      <td>SUCCESS</td>\n",
       "    </tr>\n",
       "  </tbody>\n",
       "</table>\n",
       "</div>"
      ],
      "text/plain": [
       "                merchant_id transaction_status\n",
       "0  606d9e6cdd1e4cb6dc91d674            SUCCESS\n",
       "1  606d2b1ddd1e4cb6dc91a082            SUCCESS\n",
       "2  6040d3818989096075cb1b6d            SUCCESS\n",
       "3  606d2b1ddd1e4cb6dc91a082            SUCCESS\n",
       "4  606d2b1ddd1e4cb6dc91a082            SUCCESS"
      ]
     },
     "execution_count": 8,
     "metadata": {},
     "output_type": "execute_result"
    }
   ],
   "source": [
    "mis_sampleDf.head(5)"
   ]
  },
  {
   "cell_type": "markdown",
   "id": "d640c39d-684f-44a0-8aa2-e55bf41d3fd0",
   "metadata": {},
   "source": [
    "### Merging using inner join"
   ]
  },
  {
   "cell_type": "code",
   "execution_count": 59,
   "id": "8f7ae6f7-f3ba-4773-89f7-7686faa78ddc",
   "metadata": {},
   "outputs": [],
   "source": [
    "nmMis_MergeDf = pd.merge(nm_sampleDf, mis_sampleDf, on='merchant_id', how='inner')"
   ]
  },
  {
   "cell_type": "code",
   "execution_count": 31,
   "id": "8a96981c-efb7-4ea4-bc09-a2a313a7de0c",
   "metadata": {},
   "outputs": [
    {
     "data": {
      "text/html": [
       "<div>\n",
       "<style scoped>\n",
       "    .dataframe tbody tr th:only-of-type {\n",
       "        vertical-align: middle;\n",
       "    }\n",
       "\n",
       "    .dataframe tbody tr th {\n",
       "        vertical-align: top;\n",
       "    }\n",
       "\n",
       "    .dataframe thead th {\n",
       "        text-align: right;\n",
       "    }\n",
       "</style>\n",
       "<table border=\"1\" class=\"dataframe\">\n",
       "  <thead>\n",
       "    <tr style=\"text-align: right;\">\n",
       "      <th></th>\n",
       "      <th>merchant_id</th>\n",
       "      <th>state</th>\n",
       "      <th>onboarding_date</th>\n",
       "      <th>transaction_status</th>\n",
       "    </tr>\n",
       "  </thead>\n",
       "  <tbody>\n",
       "    <tr>\n",
       "      <th>0</th>\n",
       "      <td>604308a347e6b54d1315bdbc</td>\n",
       "      <td>Uttar Pradesh</td>\n",
       "      <td>2021-03-06</td>\n",
       "      <td>SUCCESS</td>\n",
       "    </tr>\n",
       "    <tr>\n",
       "      <th>1</th>\n",
       "      <td>6043121b47e6b54d1315d07d</td>\n",
       "      <td>Punjab</td>\n",
       "      <td>2021-03-06</td>\n",
       "      <td>SUCCESS</td>\n",
       "    </tr>\n",
       "    <tr>\n",
       "      <th>2</th>\n",
       "      <td>6043121b47e6b54d1315d07d</td>\n",
       "      <td>Punjab</td>\n",
       "      <td>2021-03-06</td>\n",
       "      <td>SUCCESS</td>\n",
       "    </tr>\n",
       "    <tr>\n",
       "      <th>3</th>\n",
       "      <td>6043121b47e6b54d1315d07d</td>\n",
       "      <td>Punjab</td>\n",
       "      <td>2021-03-06</td>\n",
       "      <td>SUCCESS</td>\n",
       "    </tr>\n",
       "    <tr>\n",
       "      <th>4</th>\n",
       "      <td>6043121b47e6b54d1315d07d</td>\n",
       "      <td>Punjab</td>\n",
       "      <td>2021-03-06</td>\n",
       "      <td>SUCCESS</td>\n",
       "    </tr>\n",
       "  </tbody>\n",
       "</table>\n",
       "</div>"
      ],
      "text/plain": [
       "                merchant_id          state onboarding_date transaction_status\n",
       "0  604308a347e6b54d1315bdbc  Uttar Pradesh      2021-03-06            SUCCESS\n",
       "1  6043121b47e6b54d1315d07d         Punjab      2021-03-06            SUCCESS\n",
       "2  6043121b47e6b54d1315d07d         Punjab      2021-03-06            SUCCESS\n",
       "3  6043121b47e6b54d1315d07d         Punjab      2021-03-06            SUCCESS\n",
       "4  6043121b47e6b54d1315d07d         Punjab      2021-03-06            SUCCESS"
      ]
     },
     "execution_count": 31,
     "metadata": {},
     "output_type": "execute_result"
    }
   ],
   "source": [
    "nmMis_MergeDf.head()"
   ]
  },
  {
   "cell_type": "markdown",
   "id": "73decee4-91bb-416f-8801-313a86a10048",
   "metadata": {},
   "source": [
    "### Renaming states from hindi to enlish"
   ]
  },
  {
   "cell_type": "code",
   "execution_count": 60,
   "id": "ddbfeab3-2501-489c-8e1d-0961ab997438",
   "metadata": {
    "tags": []
   },
   "outputs": [
    {
     "data": {
      "text/plain": [
       "array(['Uttar Pradesh', 'Punjab', 'छत्तीसगढ़', 'Gujarat', 'West Bengal',\n",
       "       'Bihar', 'Rajasthan', 'Andhra Pradesh', 'Jharkhand', 'Haryana',\n",
       "       'Maharashtra', 'Karnataka', 'Delhi', 'Tamil Nadu',\n",
       "       'Madhya Pradesh', 'Arunachal Pradesh', 'Telangana', 'Odisha',\n",
       "       'Chhattisgarh', 'राजस्थान', 'Meghalaya', 'Assam', 'Uttarakhand',\n",
       "       'Chandigarh', 'मध्य प्रदेश', 'Jammu and Kashmir',\n",
       "       'Dadra and Nagar Haveli', 'Kerala', 'Himachal Pradesh', 'हरियाणा',\n",
       "       'Goa', 'उत्तर प्रदेश', 'Manipur', 'Tripura', 'बिहार', 'दिल्ली',\n",
       "       'महाराष्ट्र', 'हिमाचल प्रदेश', 'Mizoram', 'Puducherry', 'Sikkim',\n",
       "       'Daman and Diu'], dtype=object)"
      ]
     },
     "execution_count": 60,
     "metadata": {},
     "output_type": "execute_result"
    }
   ],
   "source": [
    "nmMis_MergeDf.state.unique()"
   ]
  },
  {
   "cell_type": "code",
   "execution_count": 61,
   "id": "28a0c743-bced-44d0-b878-d297f0c15eb0",
   "metadata": {},
   "outputs": [],
   "source": [
    "nmMis_MergeDf['state'] = nmMis_MergeDf['state'].replace(['छत्तीसगढ़','राजस्थान','मध्य प्रदेश','हरियाणा','उत्तर प्रदेश','बिहार','दिल्ली','महाराष्ट्र','हिमाचल प्रदेश'],\\\n",
    "                                                        ['Chhattisgarh','Rajasthan','Madhya Pradesh','Haryana','Uttar Pradesh','Bihar','Delhi','Maharashtra',\\\n",
    "                                                         'Himachal Pradesh'])"
   ]
  },
  {
   "cell_type": "code",
   "execution_count": 62,
   "id": "9fcdd4a4-65fd-4f77-9597-41ac03064137",
   "metadata": {},
   "outputs": [
    {
     "data": {
      "text/plain": [
       "array(['Uttar Pradesh', 'Punjab', 'Chhattisgarh', 'Gujarat',\n",
       "       'West Bengal', 'Bihar', 'Rajasthan', 'Andhra Pradesh', 'Jharkhand',\n",
       "       'Haryana', 'Maharashtra', 'Karnataka', 'Delhi', 'Tamil Nadu',\n",
       "       'Madhya Pradesh', 'Arunachal Pradesh', 'Telangana', 'Odisha',\n",
       "       'Meghalaya', 'Assam', 'Uttarakhand', 'Chandigarh',\n",
       "       'Jammu and Kashmir', 'Dadra and Nagar Haveli', 'Kerala',\n",
       "       'Himachal Pradesh', 'Goa', 'Manipur', 'Tripura', 'Mizoram',\n",
       "       'Puducherry', 'Sikkim', 'Daman and Diu'], dtype=object)"
      ]
     },
     "execution_count": 62,
     "metadata": {},
     "output_type": "execute_result"
    }
   ],
   "source": [
    "nmMis_MergeDf.state.unique()"
   ]
  },
  {
   "cell_type": "markdown",
   "id": "505d02cf-215b-4b6d-98ad-eeed27614718",
   "metadata": {},
   "source": [
    "### Finding out months and dates since merchant onboarded"
   ]
  },
  {
   "cell_type": "code",
   "execution_count": 63,
   "id": "8cc3cad3-1719-4a8c-8d4f-784baf3c1903",
   "metadata": {},
   "outputs": [
    {
     "data": {
      "text/plain": [
       "numpy.datetime64('2021-07-30')"
      ]
     },
     "execution_count": 63,
     "metadata": {},
     "output_type": "execute_result"
    }
   ],
   "source": [
    "Today = np.datetime64('Today','D')\n",
    "Today"
   ]
  },
  {
   "cell_type": "code",
   "execution_count": 64,
   "id": "9e54107d-a72e-4d63-a9e9-132197c5217e",
   "metadata": {},
   "outputs": [],
   "source": [
    "nmMis_MergeDf['onboarding_date'] = pd.to_datetime(nmMis_MergeDf['onboarding_date'])"
   ]
  },
  {
   "cell_type": "code",
   "execution_count": 65,
   "id": "4a4202fd-384a-441f-9f17-e961c78390e1",
   "metadata": {},
   "outputs": [],
   "source": [
    "nmMis_MergeDf['days_onboarded'] = Today - nmMis_MergeDf['onboarding_date']\n",
    "nmMis_MergeDf['months_onboarded'] = ((Today - nmMis_MergeDf['onboarding_date'])/np.timedelta64(1, 'M'))"
   ]
  },
  {
   "cell_type": "code",
   "execution_count": 37,
   "id": "93f4687a-02bf-442a-998b-b0500f7b32a5",
   "metadata": {},
   "outputs": [
    {
     "data": {
      "text/html": [
       "<div>\n",
       "<style scoped>\n",
       "    .dataframe tbody tr th:only-of-type {\n",
       "        vertical-align: middle;\n",
       "    }\n",
       "\n",
       "    .dataframe tbody tr th {\n",
       "        vertical-align: top;\n",
       "    }\n",
       "\n",
       "    .dataframe thead th {\n",
       "        text-align: right;\n",
       "    }\n",
       "</style>\n",
       "<table border=\"1\" class=\"dataframe\">\n",
       "  <thead>\n",
       "    <tr style=\"text-align: right;\">\n",
       "      <th></th>\n",
       "      <th>merchant_id</th>\n",
       "      <th>state</th>\n",
       "      <th>onboarding_date</th>\n",
       "      <th>transaction_status</th>\n",
       "      <th>days_onboarded</th>\n",
       "      <th>months_onboarded</th>\n",
       "    </tr>\n",
       "  </thead>\n",
       "  <tbody>\n",
       "    <tr>\n",
       "      <th>0</th>\n",
       "      <td>604308a347e6b54d1315bdbc</td>\n",
       "      <td>Uttar Pradesh</td>\n",
       "      <td>2021-03-06</td>\n",
       "      <td>SUCCESS</td>\n",
       "      <td>146 days</td>\n",
       "      <td>4.7968</td>\n",
       "    </tr>\n",
       "    <tr>\n",
       "      <th>1</th>\n",
       "      <td>6043121b47e6b54d1315d07d</td>\n",
       "      <td>Punjab</td>\n",
       "      <td>2021-03-06</td>\n",
       "      <td>SUCCESS</td>\n",
       "      <td>146 days</td>\n",
       "      <td>4.7968</td>\n",
       "    </tr>\n",
       "    <tr>\n",
       "      <th>2</th>\n",
       "      <td>6043121b47e6b54d1315d07d</td>\n",
       "      <td>Punjab</td>\n",
       "      <td>2021-03-06</td>\n",
       "      <td>SUCCESS</td>\n",
       "      <td>146 days</td>\n",
       "      <td>4.7968</td>\n",
       "    </tr>\n",
       "    <tr>\n",
       "      <th>3</th>\n",
       "      <td>6043121b47e6b54d1315d07d</td>\n",
       "      <td>Punjab</td>\n",
       "      <td>2021-03-06</td>\n",
       "      <td>SUCCESS</td>\n",
       "      <td>146 days</td>\n",
       "      <td>4.7968</td>\n",
       "    </tr>\n",
       "    <tr>\n",
       "      <th>4</th>\n",
       "      <td>6043121b47e6b54d1315d07d</td>\n",
       "      <td>Punjab</td>\n",
       "      <td>2021-03-06</td>\n",
       "      <td>SUCCESS</td>\n",
       "      <td>146 days</td>\n",
       "      <td>4.7968</td>\n",
       "    </tr>\n",
       "    <tr>\n",
       "      <th>5</th>\n",
       "      <td>60431a1747e6b54d1315ed6f</td>\n",
       "      <td>Chhattisgarh</td>\n",
       "      <td>2021-03-06</td>\n",
       "      <td>SUCCESS</td>\n",
       "      <td>146 days</td>\n",
       "      <td>4.7968</td>\n",
       "    </tr>\n",
       "    <tr>\n",
       "      <th>6</th>\n",
       "      <td>60431b0a47e6b54d1315f161</td>\n",
       "      <td>Gujarat</td>\n",
       "      <td>2021-03-06</td>\n",
       "      <td>SUCCESS</td>\n",
       "      <td>146 days</td>\n",
       "      <td>4.7968</td>\n",
       "    </tr>\n",
       "  </tbody>\n",
       "</table>\n",
       "</div>"
      ],
      "text/plain": [
       "                merchant_id          state onboarding_date transaction_status  \\\n",
       "0  604308a347e6b54d1315bdbc  Uttar Pradesh      2021-03-06            SUCCESS   \n",
       "1  6043121b47e6b54d1315d07d         Punjab      2021-03-06            SUCCESS   \n",
       "2  6043121b47e6b54d1315d07d         Punjab      2021-03-06            SUCCESS   \n",
       "3  6043121b47e6b54d1315d07d         Punjab      2021-03-06            SUCCESS   \n",
       "4  6043121b47e6b54d1315d07d         Punjab      2021-03-06            SUCCESS   \n",
       "5  60431a1747e6b54d1315ed6f   Chhattisgarh      2021-03-06            SUCCESS   \n",
       "6  60431b0a47e6b54d1315f161        Gujarat      2021-03-06            SUCCESS   \n",
       "\n",
       "  days_onboarded  months_onboarded  \n",
       "0       146 days            4.7968  \n",
       "1       146 days            4.7968  \n",
       "2       146 days            4.7968  \n",
       "3       146 days            4.7968  \n",
       "4       146 days            4.7968  \n",
       "5       146 days            4.7968  \n",
       "6       146 days            4.7968  "
      ]
     },
     "execution_count": 37,
     "metadata": {},
     "output_type": "execute_result"
    }
   ],
   "source": [
    "nmMis_MergeDf.round(4).head(7)"
   ]
  },
  {
   "cell_type": "markdown",
   "id": "d24247ff-be8e-4222-945c-9f7081d5678e",
   "metadata": {},
   "source": [
    "### Finding which state has highest number of successfull transactions"
   ]
  },
  {
   "cell_type": "code",
   "execution_count": 66,
   "id": "0032377b-8c59-48d4-b117-b60c9b3bba37",
   "metadata": {},
   "outputs": [
    {
     "data": {
      "image/png": "[encoded data removed]",
      "text/plain": [
       "<Figure size 1080x360 with 1 Axes>"
      ]
     },
     "metadata": {
      "needs_background": "light"
     },
     "output_type": "display_data"
    }
   ],
   "source": [
    "plt.figure(figsize=(15,5))\n",
    "sns.countplot(y='state',data=nmMis_MergeDf)\n",
    "plt.show()"
   ]
  },
  {
   "cell_type": "markdown",
   "id": "7e46130b-93e6-4465-bad2-9b60f7857bd9",
   "metadata": {},
   "source": [
    " Delhi has highest number of successfull transactions in the past months\n",
    "### Since there are many states, I will divide them into North, West, East & South India"
   ]
  },
  {
   "cell_type": "code",
   "execution_count": 67,
   "id": "26f3e5a5-5938-4fca-beb1-da75449f995a",
   "metadata": {},
   "outputs": [],
   "source": [
    "nmMis_MergeDf = nmMis_MergeDf.replace(to_replace =['Uttarakhand','Himachal Pradesh','Uttar Pradesh','Delhi','Punjab','Chhattisgarh','Haryana','Jammu and Kashmir',\n",
    "                                                   'Madhya Pradesh','Chandigarh'], \n",
    "                            value =\"North India\")\n",
    "\n",
    "\n",
    "nmMis_MergeDf = nmMis_MergeDf.replace(to_replace =['Maharashtra', 'Daman and Diu', 'Gujarat', 'Rajasthan', 'Goa', 'Dadra and Nagar Haveli'], \n",
    "                            value =\"West India\")\n",
    "\n",
    "nmMis_MergeDf = nmMis_MergeDf.replace(to_replace =['Andhra Pradesh','Karnataka','Tamil Nadu','Kerala', 'Puducherry', 'Telangana'], \n",
    "                            value =\"South India\")\n",
    "\n",
    "nmMis_MergeDf = nmMis_MergeDf.replace(to_replace =['Jharkhand', 'Bihar','West Bengal', 'Manipur', 'Tripura', 'Mizoram',\n",
    "    'Sikkim','Arunachal Pradesh', 'Odisha','Meghalaya', 'Assam', ], \n",
    "                            value =\"East India\")"
   ]
  },
  {
   "cell_type": "code",
   "execution_count": 51,
   "id": "c3ba1265-b89f-44d3-bfb9-cf52b660c22d",
   "metadata": {},
   "outputs": [
    {
     "data": {
      "text/plain": [
       "array(['North India', 'West India', 'South India', 'East India'],\n",
       "      dtype=object)"
      ]
     },
     "execution_count": 51,
     "metadata": {},
     "output_type": "execute_result"
    }
   ],
   "source": [
    "nmMis_MergeDf.state.unique()"
   ]
  },
  {
   "cell_type": "code",
   "execution_count": 68,
   "id": "7d826c90-d59d-452b-a52e-13df3f3166be",
   "metadata": {
    "tags": []
   },
   "outputs": [
    {
     "data": {
      "image/png": "[encoded data removed]",
      "text/plain": [
       "<Figure size 1080x360 with 1 Axes>"
      ]
     },
     "metadata": {
      "needs_background": "light"
     },
     "output_type": "display_data"
    }
   ],
   "source": [
    "plt.figure(figsize=(15,5))\n",
    "sns.countplot(y='state',data=nmMis_MergeDf)\n",
    "plt.show()"
   ]
  },
  {
   "cell_type": "markdown",
   "id": "3f54e229-2892-442b-b1e6-d1b96ec02ba4",
   "metadata": {},
   "source": [
    "North India has highest number of successfull transactions in the past months\n",
    "### Now creating a new dataframe for clustering"
   ]
  },
  {
   "cell_type": "code",
   "execution_count": 69,
   "id": "58af9b55-760d-47ed-b267-b27322ba003c",
   "metadata": {},
   "outputs": [],
   "source": [
    "nmMis_clusterDf = nmMis_MergeDf.copy()\n",
    "nmMis_clusterDf.drop(['merchant_id','onboarding_date','days_onboarded','transaction_status'], axis=1, inplace=True)"
   ]
  },
  {
   "cell_type": "code",
   "execution_count": 70,
   "id": "c736899e-5a91-470b-9e6c-71f0f17b711d",
   "metadata": {},
   "outputs": [
    {
     "data": {
      "text/html": [
       "<div>\n",
       "<style scoped>\n",
       "    .dataframe tbody tr th:only-of-type {\n",
       "        vertical-align: middle;\n",
       "    }\n",
       "\n",
       "    .dataframe tbody tr th {\n",
       "        vertical-align: top;\n",
       "    }\n",
       "\n",
       "    .dataframe thead th {\n",
       "        text-align: right;\n",
       "    }\n",
       "</style>\n",
       "<table border=\"1\" class=\"dataframe\">\n",
       "  <thead>\n",
       "    <tr style=\"text-align: right;\">\n",
       "      <th></th>\n",
       "      <th>state</th>\n",
       "      <th>months_onboarded</th>\n",
       "    </tr>\n",
       "  </thead>\n",
       "  <tbody>\n",
       "    <tr>\n",
       "      <th>0</th>\n",
       "      <td>North India</td>\n",
       "      <td>4.796813</td>\n",
       "    </tr>\n",
       "    <tr>\n",
       "      <th>1</th>\n",
       "      <td>North India</td>\n",
       "      <td>4.796813</td>\n",
       "    </tr>\n",
       "    <tr>\n",
       "      <th>2</th>\n",
       "      <td>North India</td>\n",
       "      <td>4.796813</td>\n",
       "    </tr>\n",
       "    <tr>\n",
       "      <th>3</th>\n",
       "      <td>North India</td>\n",
       "      <td>4.796813</td>\n",
       "    </tr>\n",
       "    <tr>\n",
       "      <th>4</th>\n",
       "      <td>North India</td>\n",
       "      <td>4.796813</td>\n",
       "    </tr>\n",
       "  </tbody>\n",
       "</table>\n",
       "</div>"
      ],
      "text/plain": [
       "         state  months_onboarded\n",
       "0  North India          4.796813\n",
       "1  North India          4.796813\n",
       "2  North India          4.796813\n",
       "3  North India          4.796813\n",
       "4  North India          4.796813"
      ]
     },
     "execution_count": 70,
     "metadata": {},
     "output_type": "execute_result"
    }
   ],
   "source": [
    "nmMis_clusterDf.head()"
   ]
  },
  {
   "cell_type": "markdown",
   "id": "28bbbb9b-c34f-4143-8c66-5e5bf9be0f05",
   "metadata": {},
   "source": [
    "#### <b> I plan, for this version 1, on clustering together merchants who have done successfull transactions on the basis of\n",
    "##### 1) where they live\n",
    "##### 2) how many months have they been with us </b>"
   ]
  },
  {
   "cell_type": "code",
   "execution_count": 71,
   "id": "5142a945-fd79-46f2-b3a4-0bafe2676125",
   "metadata": {},
   "outputs": [],
   "source": [
    "from sklearn import preprocessing\n",
    "le = preprocessing.LabelEncoder()\n",
    "nmMis_clusterDf['state_encoded'] = le.fit_transform(nmMis_clusterDf['state'].values)"
   ]
  },
  {
   "cell_type": "code",
   "execution_count": 75,
   "id": "41dc141e-8b28-4193-b9ba-1a266a9bf00b",
   "metadata": {},
   "outputs": [
    {
     "data": {
      "text/html": [
       "<div>\n",
       "<style scoped>\n",
       "    .dataframe tbody tr th:only-of-type {\n",
       "        vertical-align: middle;\n",
       "    }\n",
       "\n",
       "    .dataframe tbody tr th {\n",
       "        vertical-align: top;\n",
       "    }\n",
       "\n",
       "    .dataframe thead th {\n",
       "        text-align: right;\n",
       "    }\n",
       "</style>\n",
       "<table border=\"1\" class=\"dataframe\">\n",
       "  <thead>\n",
       "    <tr style=\"text-align: right;\">\n",
       "      <th></th>\n",
       "      <th>state</th>\n",
       "      <th>state_encoded</th>\n",
       "      <th>months_onboarded</th>\n",
       "    </tr>\n",
       "  </thead>\n",
       "  <tbody>\n",
       "    <tr>\n",
       "      <th>0</th>\n",
       "      <td>North India</td>\n",
       "      <td>1</td>\n",
       "      <td>4.796813</td>\n",
       "    </tr>\n",
       "    <tr>\n",
       "      <th>1</th>\n",
       "      <td>North India</td>\n",
       "      <td>1</td>\n",
       "      <td>4.796813</td>\n",
       "    </tr>\n",
       "    <tr>\n",
       "      <th>2</th>\n",
       "      <td>North India</td>\n",
       "      <td>1</td>\n",
       "      <td>4.796813</td>\n",
       "    </tr>\n",
       "    <tr>\n",
       "      <th>3</th>\n",
       "      <td>North India</td>\n",
       "      <td>1</td>\n",
       "      <td>4.796813</td>\n",
       "    </tr>\n",
       "    <tr>\n",
       "      <th>4</th>\n",
       "      <td>North India</td>\n",
       "      <td>1</td>\n",
       "      <td>4.796813</td>\n",
       "    </tr>\n",
       "  </tbody>\n",
       "</table>\n",
       "</div>"
      ],
      "text/plain": [
       "         state  state_encoded  months_onboarded\n",
       "0  North India              1          4.796813\n",
       "1  North India              1          4.796813\n",
       "2  North India              1          4.796813\n",
       "3  North India              1          4.796813\n",
       "4  North India              1          4.796813"
      ]
     },
     "execution_count": 75,
     "metadata": {},
     "output_type": "execute_result"
    }
   ],
   "source": [
    "nmMis_clusterDf = nmMis_clusterDf[['state','state_encoded','months_onboarded']]\n",
    "nmMis_clusterDf.head()"
   ]
  },
  {
   "cell_type": "markdown",
   "id": "30d4103b-742e-4666-ac1e-45e4305198e8",
   "metadata": {},
   "source": [
    "### According to label Data:\n",
    "East India = 0 <br>\n",
    "North India = 1<br>\n",
    "South India = 2<br>\n",
    "West India = 3\n",
    "\n"
   ]
  },
  {
   "cell_type": "markdown",
   "id": "12cf4baa-88eb-46b0-b9b3-7ec89dffd076",
   "metadata": {},
   "source": [
    "### Clustering using KMeans Algorithm"
   ]
  },
  {
   "cell_type": "code",
   "execution_count": 76,
   "id": "34feb447-8246-400a-abaa-e74e7a24bd17",
   "metadata": {},
   "outputs": [
    {
     "data": {
      "image/png": "[encoded data removed]",
      "text/plain": [
       "<Figure size 864x432 with 1 Axes>"
      ]
     },
     "metadata": {
      "needs_background": "light"
     },
     "output_type": "display_data"
    }
   ],
   "source": [
    "X1 = nmMis_clusterDf.loc[:,[\"state_encoded\",\"months_onboarded\"]].values\n",
    "\n",
    "from sklearn.cluster import KMeans\n",
    "wcss = []\n",
    "\n",
    "for k in range(1,11):\n",
    "    kmeans = KMeans(n_clusters=k, init=\"k-means++\")\n",
    "    kmeans.fit(X1)\n",
    "    wcss.append(kmeans.inertia_)\n",
    "plt.figure(figsize=(12,6))\n",
    "plt.grid()\n",
    "plt.plot(range(1,11),wcss, linewidth=2, color=\"red\", marker =\"8\")\n",
    "plt.xlabel(\"K Value\")\n",
    "plt.ylabel(\"WCSS\")\n",
    "plt.show()"
   ]
  },
  {
   "cell_type": "code",
   "execution_count": 77,
   "id": "a5c6b38d-10af-4c5f-92af-9747a5526bec",
   "metadata": {},
   "outputs": [
    {
     "name": "stdout",
     "output_type": "stream",
     "text": [
      "[1 1 1 ... 1 1 0]\n"
     ]
    }
   ],
   "source": [
    "kmeans = KMeans(n_clusters=4)\n",
    "label = kmeans.fit_predict(X1)\n",
    "print(label)"
   ]
  },
  {
   "cell_type": "code",
   "execution_count": 78,
   "id": "599fa0d0-d293-4b8b-b466-01acdabb73fd",
   "metadata": {},
   "outputs": [
    {
     "name": "stdout",
     "output_type": "stream",
     "text": [
      "[[2.57280617 4.14136289]\n",
      " [0.85720182 4.07378867]\n",
      " [0.51058743 1.817297  ]\n",
      " [2.5956     2.10878416]]\n"
     ]
    }
   ],
   "source": [
    "print(kmeans.cluster_centers_)"
   ]
  },
  {
   "cell_type": "markdown",
   "id": "f5e3715e-ad0f-41bb-8ee0-4b79df647257",
   "metadata": {},
   "source": [
    "### Visualising using Scatter Plot"
   ]
  },
  {
   "cell_type": "code",
   "execution_count": 79,
   "id": "dc83d902-8599-4676-bb27-1b482ba5b6e0",
   "metadata": {},
   "outputs": [
    {
     "data": {
      "image/png": "[encoded data removed]",
      "text/plain": [
       "<Figure size 432x288 with 1 Axes>"
      ]
     },
     "metadata": {
      "needs_background": "light"
     },
     "output_type": "display_data"
    }
   ],
   "source": [
    "plt.scatter(X1[:,0], X1[:,1], c=kmeans.labels_, cmap='rainbow')\n",
    "plt.scatter(kmeans.cluster_centers_[:,0] , kmeans.cluster_centers_[:,1], color ='black')\n",
    "plt.title('Cluster of Customers')\n",
    "plt.xlabel('States')\n",
    "plt.ylabel('Months Onboarded')\n",
    "plt.show()"
   ]
  },
  {
   "cell_type": "markdown",
   "id": "e35d0e04-e847-4a49-99be-fc79a4d8382d",
   "metadata": {},
   "source": [
    "### Clusters:\n",
    "Aqua = Customers from North India and East India who have onboarded nearly 3 months ago and have made successfull transactions <br>\n",
    "Purple = Customers from South India and West India who have onboarded nearly 4.25 months ago and have made successfull transactions <br>\n",
    "Yellow = Customers from North India and East India who have onboarded nearly 1.8 months ago and have made successfull transactions <br>\n",
    "Red = Customers from South India and West India who have onboarded nearly 2 months ago and have made successfull transactions "
   ]
  },
  {
   "cell_type": "code",
   "execution_count": null,
   "id": "7a78ca8f-c7ff-4fc4-9ca6-66e4d05d6651",
   "metadata": {},
   "outputs": [],
   "source": []
  }
 ],
 "metadata": {
  "kernelspec": {
   "display_name": "Python 3 (ipykernel)",
   "language": "python",
   "name": "python3"
  },
  "language_info": {
   "codemirror_mode": {
    "name": "ipython",
    "version": 3
   },
   "file_extension": ".py",
   "mimetype": "text/x-python",
   "name": "python",
   "nbconvert_exporter": "python",
   "pygments_lexer": "ipython3",
   "version": "3.7.4"
  }
 },
 "nbformat": 4,
 "nbformat_minor": 5
}
